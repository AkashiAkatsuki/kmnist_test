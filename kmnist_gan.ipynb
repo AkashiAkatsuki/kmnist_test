{
 "cells": [
  {
   "cell_type": "code",
   "execution_count": 1,
   "metadata": {},
   "outputs": [],
   "source": [
    "import os\n",
    "import torch\n",
    "import torch.nn as nn\n",
    "import torch.nn.functional as F\n",
    "import torch.utils.data\n",
    "import torchvision.utils as vutils\n",
    "import numpy as np"
   ]
  },
  {
   "cell_type": "code",
   "execution_count": 2,
   "metadata": {},
   "outputs": [
    {
     "name": "stdout",
     "output_type": "stream",
     "text": [
      "device: cuda\n"
     ]
    }
   ],
   "source": [
    "batch_size = 64\n",
    "n_epoch = 50\n",
    "lr = 0.001\n",
    "beta1 = 0.5\n",
    "nz = 100\n",
    "nch = 1\n",
    "nch_g = 28\n",
    "nch_d = 28\n",
    "result_dir = \"./gan_results\"\n",
    "device = torch.device(\"cuda\" if torch.cuda.is_available() else \"cpu\")\n",
    "print(\"device: {}\".format(device))\n",
    "try:\n",
    "    os.makedirs(result_dir)\n",
    "except OSError:\n",
    "    pass"
   ]
  },
  {
   "cell_type": "code",
   "execution_count": 3,
   "metadata": {},
   "outputs": [],
   "source": [
    "def loadData(img_path, label_path):\n",
    "    img_np = np.load(img_path)[\"arr_0\"].reshape(-1, 1, 28, 28)\n",
    "    img_np = img_np/255\n",
    "    label_np = np.load(label_path)[\"arr_0\"]\n",
    "    return torch.utils.data.TensorDataset(torch.from_numpy(img_np),\n",
    "                                            torch.from_numpy(label_np))\n",
    "\n",
    "train_data = loadData(\"kmnist/k49-train-imgs.npz\", \"kmnist/k49-train-labels.npz\")\n",
    "train_loader = torch.utils.data.DataLoader(train_data, batch_size=batch_size, shuffle=True, drop_last=True)\n",
    "test_data = loadData(\"kmnist/k49-test-imgs.npz\", \"kmnist/k49-test-labels.npz\")\n",
    "test_loader = torch.utils.data.DataLoader(test_data)"
   ]
  },
  {
   "cell_type": "code",
   "execution_count": 4,
   "metadata": {},
   "outputs": [],
   "source": [
    "def weights_init(m):\n",
    "    classname = m.__class__.__name__\n",
    "    if classname.find('Conv') != -1:\n",
    "        m.weight.data.normal_(0.0, 0.02)\n",
    "        m.bias.data.fill_(0)\n",
    "    elif classname.find('Linear') != -1:\n",
    "        m.weight.data.normal_(0.0, 0.02)\n",
    "        m.bias.data.fill_(0)\n",
    "    elif classname.find('BatchNorm') != -1:\n",
    "        m.weight.data.normal_(1.0, 0.02)\n",
    "        m.bias.data.fill_(0)"
   ]
  },
  {
   "cell_type": "code",
   "execution_count": 5,
   "metadata": {},
   "outputs": [
    {
     "name": "stdout",
     "output_type": "stream",
     "text": [
      "Generator(\n",
      "  (l1): Sequential(\n",
      "    (0): ConvTranspose2d(100, 112, kernel_size=(3, 3), stride=(1, 1))\n",
      "    (1): BatchNorm2d(112, eps=1e-05, momentum=0.1, affine=True, track_running_stats=True)\n",
      "    (2): ReLU()\n",
      "  )\n",
      "  (l2): Sequential(\n",
      "    (0): ConvTranspose2d(112, 56, kernel_size=(5, 5), stride=(2, 2), padding=(1, 1))\n",
      "    (1): BatchNorm2d(56, eps=1e-05, momentum=0.1, affine=True, track_running_stats=True)\n",
      "    (2): ReLU()\n",
      "  )\n",
      "  (l3): Sequential(\n",
      "    (0): ConvTranspose2d(56, 28, kernel_size=(4, 4), stride=(2, 2), padding=(1, 1))\n",
      "    (1): BatchNorm2d(28, eps=1e-05, momentum=0.1, affine=True, track_running_stats=True)\n",
      "    (2): ReLU()\n",
      "  )\n",
      "  (l4): Sequential(\n",
      "    (0): ConvTranspose2d(28, 1, kernel_size=(4, 4), stride=(2, 2), padding=(1, 1))\n",
      "    (1): Tanh()\n",
      "  )\n",
      ")\n"
     ]
    }
   ],
   "source": [
    "class Generator(nn.Module):\n",
    "    def __init__(self, nz=100, nch_g=28, nch=1):\n",
    "        super(Generator, self).__init__()\n",
    "        self.l1 =  nn.Sequential(\n",
    "            nn.ConvTranspose2d(nz, nch_g * 4, 3, 1), \n",
    "            nn.BatchNorm2d(nch_g * 4),    \n",
    "            nn.ReLU()\n",
    "        )  # (100, 1, 1) -> (112, 3, 3)\n",
    "        self.l2 = nn.Sequential(\n",
    "            nn.ConvTranspose2d(nch_g * 4, nch_g * 2, 5, 2, 1),\n",
    "            nn.BatchNorm2d(nch_g * 2),\n",
    "            nn.ReLU()\n",
    "        )  # (112, 3, 3) -> (56, 7, 7)\n",
    "        self.l3 = nn.Sequential(\n",
    "            nn.ConvTranspose2d(nch_g * 2, nch_g, 4, 2, 1),\n",
    "            nn.BatchNorm2d(nch_g),\n",
    "            nn.ReLU()\n",
    "        )  # (56, 7, 7) -> (28, 14, 14)\n",
    "        self.l4 = nn.Sequential(\n",
    "            nn.ConvTranspose2d(nch_g, nch, 4, 2, 1),\n",
    "            nn.Tanh()\n",
    "        )   # (28, 14, 14) -> (1, 28, 28)\n",
    "    \n",
    "    def forward(self, x):\n",
    "        x = self.l1(x)\n",
    "        x = self.l2(x)\n",
    "        x = self.l3(x)\n",
    "        x = self.l4(x)\n",
    "        return x\n",
    "        \n",
    "\n",
    "net_g = Generator(nz=nz, nch_g=nch_g, nch=nch_g).to(device)\n",
    "net_g.apply(weights_init)\n",
    "print(net_g)"
   ]
  },
  {
   "cell_type": "code",
   "execution_count": 6,
   "metadata": {},
   "outputs": [
    {
     "name": "stdout",
     "output_type": "stream",
     "text": [
      "Discriminator(\n",
      "  (l1): Sequential(\n",
      "    (0): Conv2d(1, 28, kernel_size=(4, 4), stride=(2, 2), padding=(1, 1))\n",
      "    (1): LeakyReLU(negative_slope=0.2)\n",
      "  )\n",
      "  (l2): Sequential(\n",
      "    (0): Conv2d(28, 56, kernel_size=(4, 4), stride=(2, 2), padding=(1, 1))\n",
      "    (1): BatchNorm2d(56, eps=1e-05, momentum=0.1, affine=True, track_running_stats=True)\n",
      "    (2): LeakyReLU(negative_slope=0.2)\n",
      "  )\n",
      "  (l3): Sequential(\n",
      "    (0): Conv2d(56, 112, kernel_size=(4, 4), stride=(2, 2), padding=(1, 1))\n",
      "    (1): BatchNorm2d(112, eps=1e-05, momentum=0.1, affine=True, track_running_stats=True)\n",
      "    (2): LeakyReLU(negative_slope=0.2)\n",
      "  )\n",
      "  (l4): Conv2d(112, 1, kernel_size=(3, 3), stride=(1, 1))\n",
      ")\n"
     ]
    }
   ],
   "source": [
    "class Discriminator(nn.Module):\n",
    "    def __init__(self, nch=1, nch_d=28):\n",
    "        super(Discriminator, self).__init__()\n",
    "        self.l1 = nn.Sequential(\n",
    "            nn.Conv2d(nch, nch_d, 4, 2, 1),\n",
    "            nn.LeakyReLU(negative_slope=0.2)\n",
    "            # (1, 28, 28) -> (28, 14, 14)\n",
    "        )\n",
    "        self.l2 = nn.Sequential(\n",
    "            nn.Conv2d(nch_d, nch_d * 2, 4, 2, 1),\n",
    "            nn.BatchNorm2d(nch_d * 2),\n",
    "            nn.LeakyReLU(negative_slope=0.2)\n",
    "            # (28, 14, 14) -> (56, 7, 7)\n",
    "        )\n",
    "        self.l3 = nn.Sequential(\n",
    "            nn.Conv2d(nch_d * 2, nch_d * 4, 4, 2, 1),\n",
    "            nn.BatchNorm2d(nch_d * 4),\n",
    "            nn.LeakyReLU(negative_slope=0.2)\n",
    "            # (56, 7, 7) -> (112, 3, 3)\n",
    "        )\n",
    "        self.l4 = nn.Conv2d(nch_d * 4, 1, 3, 1)\n",
    "            # (112, 4, 4) -> (1, 1, 1)\n",
    "        \n",
    "    def forward(self, x):\n",
    "        x = self.l1(x)\n",
    "        x = self.l2(x)\n",
    "        x = self.l3(x)\n",
    "        x = self.l4(x)\n",
    "        return x\n",
    "    \n",
    "net_d = Discriminator(nch=nch, nch_d=nch_d).to(device)\n",
    "net_d.apply(weights_init)\n",
    "print(net_d)"
   ]
  },
  {
   "cell_type": "code",
   "execution_count": 7,
   "metadata": {},
   "outputs": [],
   "source": [
    "criterion = nn.MSELoss()\n",
    "optimizer_g = torch.optim.Adam(net_g.parameters(), lr=lr, betas=(beta1, 0.999), weight_decay=1e-5)\n",
    "optimizer_d = torch.optim.Adam(net_d.parameters(), lr=lr, betas=(beta1, 0.999), weight_decay=1e-5)\n",
    "\n",
    "fixed_noise = torch.randn(batch_size, nz, 1, 1, device=device)"
   ]
  },
  {
   "cell_type": "code",
   "execution_count": 8,
   "metadata": {},
   "outputs": [],
   "source": [
    "def train(epoch):\n",
    "    for step, (data, target) in enumerate(train_loader, 0):\n",
    "        real_image = data.to(device, dtype=torch.float)\n",
    "        sample_size = real_image.size(0)\n",
    "        noise = torch.randn(sample_size, nz, 1, 1, device=device)\n",
    "        \n",
    "        real_target = torch.full((sample_size,), 1, device=device)\n",
    "        fake_target = torch.full((sample_size,), 0, device=device)\n",
    "        \n",
    "        net_d.zero_grad()\n",
    "        output = net_d(real_image)\n",
    "        loss_d_real = criterion(output, real_target)\n",
    "        d_x = output.mean().item()\n",
    "\n",
    "        fake_image = net_g(noise)\n",
    "        output = net_d(fake_image.detach())\n",
    "        loss_d_fake = criterion(output, fake_target)\n",
    "        d_g_z1 = output.mean().item()\n",
    "        \n",
    "        loss_d = loss_d_real + loss_d_fake\n",
    "        loss_d.backward()\n",
    "        optimizer_d.step()\n",
    "        \n",
    "        net_g.zero_grad()\n",
    "        output = net_d(fake_image)\n",
    "        loss_g = criterion(output, real_target)\n",
    "        loss_g.backward()\n",
    "        d_g_z2 = output.mean().item()\n",
    "        optimizer_g.step()\n",
    "        if(step == 0):\n",
    "            print(\"Epoch:{}, Loss_G:{:.4}, Loss_D:{:.4}\".format(epoch+1, loss_g.item(), loss_d.item()))\n",
    "    fake_image = net_g(fixed_noise)\n",
    "    vutils.save_image(fake_image.detach(), '{}/fake_samples_epoch_{:03d}.png'.format(result_dir, epoch + 1), normalize=True, nrow=8)"
   ]
  },
  {
   "cell_type": "code",
   "execution_count": 9,
   "metadata": {
    "scrolled": false
   },
   "outputs": [
    {
     "name": "stdout",
     "output_type": "stream",
     "text": [
      "Epoch:1, Loss_G:5.732, Loss_D:0.8799\n",
      "Epoch:2, Loss_G:0.8599, Loss_D:0.1057\n",
      "Epoch:3, Loss_G:0.8004, Loss_D:0.06943\n"
     ]
    }
   ],
   "source": [
    "for epoch in range(3):\n",
    "    train(epoch)"
   ]
  }
 ],
 "metadata": {
  "kernelspec": {
   "display_name": "Python 3",
   "language": "python",
   "name": "python3"
  },
  "language_info": {
   "codemirror_mode": {
    "name": "ipython",
    "version": 3
   },
   "file_extension": ".py",
   "mimetype": "text/x-python",
   "name": "python",
   "nbconvert_exporter": "python",
   "pygments_lexer": "ipython3",
   "version": "3.7.1"
  }
 },
 "nbformat": 4,
 "nbformat_minor": 2
}
