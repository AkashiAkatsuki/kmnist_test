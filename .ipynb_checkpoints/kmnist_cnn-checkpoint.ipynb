{
 "cells": [
  {
   "cell_type": "code",
   "execution_count": 1,
   "metadata": {},
   "outputs": [],
   "source": [
    "import torch\n",
    "import torch.nn as nn\n",
    "import torch.nn.functional as F\n",
    "import torch.utils.data\n",
    "import numpy as np"
   ]
  },
  {
   "cell_type": "code",
   "execution_count": 2,
   "metadata": {},
   "outputs": [],
   "source": [
    "def loadData(img_path, label_path):\n",
    "    img_np = np.load(img_path)[\"arr_0\"]\n",
    "    img_np = img_np/255\n",
    "    img_np = img_np.reshape(len(img_np), -1, 28, 28)\n",
    "    label_np = np.load(label_path)[\"arr_0\"]\n",
    "    return torch.utils.data.TensorDataset(torch.from_numpy(img_np),\n",
    "                                            torch.from_numpy(label_np))\n",
    "\n",
    "train_data = loadData(\"kmnist/k49-train-imgs.npz\", \"kmnist/k49-train-labels.npz\")\n",
    "train_loader = torch.utils.data.DataLoader(train_data, batch_size=100, shuffle=True)\n",
    "test_data = loadData(\"kmnist/k49-test-imgs.npz\", \"kmnist/k49-test-labels.npz\")\n",
    "test_loader = torch.utils.data.DataLoader(test_data)"
   ]
  },
  {
   "cell_type": "code",
   "execution_count": 3,
   "metadata": {},
   "outputs": [
    {
     "name": "stdout",
     "output_type": "stream",
     "text": [
      "Net(\n",
      "  (conv1): Conv2d(1, 32, kernel_size=(3, 3), stride=(1, 1))\n",
      "  (conv2): Conv2d(32, 64, kernel_size=(3, 3), stride=(1, 1))\n",
      "  (pool): MaxPool2d(kernel_size=2, stride=2, padding=0, dilation=1, ceil_mode=False)\n",
      "  (dropout1): Dropout2d(p=0.5)\n",
      "  (fc1): Linear(in_features=9216, out_features=128, bias=True)\n",
      "  (dropout2): Dropout2d(p=0.5)\n",
      "  (fc2): Linear(in_features=128, out_features=49, bias=True)\n",
      ")\n"
     ]
    }
   ],
   "source": [
    "class Net(nn.Module):\n",
    "    def __init__(self):\n",
    "        super(Net, self).__init__()\n",
    "        self.conv1 = nn.Conv2d(1, 32, 3) \n",
    "        self.conv2 = nn.Conv2d(32, 64, 3)\n",
    "        self.pool = nn.MaxPool2d(2, 2)\n",
    "        self.dropout1 = nn.Dropout2d()\n",
    "        self.fc1 = nn.Linear(12*12*64, 128)\n",
    "        self.dropout2 = nn.Dropout2d()\n",
    "        self.fc2 = nn.Linear(128, 49)\n",
    "    \n",
    "    def forward(self, x):\n",
    "        x = F.relu(self.conv1(x))\n",
    "        x = self.pool(F.relu(self.conv2(x)))\n",
    "        x = self.dropout1(x)\n",
    "        x = x.view(-1, 12*12*64)\n",
    "        x = F.relu(self.fc1(x))\n",
    "        x = self.dropout2(x)\n",
    "        x = self.fc2(x)\n",
    "        return x\n",
    "\n",
    "net = Net().to(\"cuda\")\n",
    "model_dir = None #\"./model_cnn\"\n",
    "print(net)"
   ]
  },
  {
   "cell_type": "code",
   "execution_count": 4,
   "metadata": {},
   "outputs": [],
   "source": [
    "criterion = nn.CrossEntropyLoss()\n",
    "optimizer = torch.optim.SGD(net.parameters(), lr=0.001, momentum=0.9)"
   ]
  },
  {
   "cell_type": "code",
   "execution_count": 5,
   "metadata": {},
   "outputs": [],
   "source": [
    "def train(epoch):\n",
    "    net.train()\n",
    "    for step, (data, target) in enumerate(train_loader, 0):\n",
    "        data = data.to(\"cuda\", dtype=torch.float)\n",
    "        target = target.to(\"cuda\", dtype=torch.long)\n",
    "        optimizer.zero_grad()\n",
    "        output = net(data)\n",
    "        loss = criterion(output, target)\n",
    "        loss.backward()\n",
    "        optimizer.step()\n",
    "        if step == 0:\n",
    "            print(\"Epoch:{}, Step:{}, Loss:{:.4}\".format(epoch+1, step+1, loss.item()))"
   ]
  },
  {
   "cell_type": "code",
   "execution_count": 6,
   "metadata": {
    "scrolled": true
   },
   "outputs": [
    {
     "name": "stdout",
     "output_type": "stream",
     "text": [
      "Epoch:1, Step:1, Loss:3.89\n",
      "Epoch:2, Step:1, Loss:1.598\n",
      "Epoch:3, Step:1, Loss:1.196\n",
      "Epoch:4, Step:1, Loss:1.131\n",
      "Epoch:5, Step:1, Loss:0.7206\n",
      "Epoch:6, Step:1, Loss:1.063\n",
      "Epoch:7, Step:1, Loss:1.122\n",
      "Epoch:8, Step:1, Loss:0.868\n",
      "Epoch:9, Step:1, Loss:1.02\n",
      "Epoch:10, Step:1, Loss:0.7821\n",
      "Epoch:11, Step:1, Loss:0.8099\n",
      "Epoch:12, Step:1, Loss:1.263\n",
      "Epoch:13, Step:1, Loss:0.4395\n",
      "Epoch:14, Step:1, Loss:0.7206\n",
      "Epoch:15, Step:1, Loss:0.7389\n",
      "Epoch:16, Step:1, Loss:0.7317\n",
      "Epoch:17, Step:1, Loss:0.5763\n",
      "Epoch:18, Step:1, Loss:0.7829\n",
      "Epoch:19, Step:1, Loss:0.5309\n",
      "Epoch:20, Step:1, Loss:0.5776\n",
      "Epoch:21, Step:1, Loss:0.6596\n",
      "Epoch:22, Step:1, Loss:0.5128\n",
      "Epoch:23, Step:1, Loss:0.3368\n",
      "Epoch:24, Step:1, Loss:0.866\n",
      "Epoch:25, Step:1, Loss:0.3735\n",
      "Epoch:26, Step:1, Loss:0.3935\n",
      "Epoch:27, Step:1, Loss:0.5652\n",
      "Epoch:28, Step:1, Loss:0.3031\n",
      "Epoch:29, Step:1, Loss:0.4552\n",
      "Epoch:30, Step:1, Loss:0.3736\n",
      "Epoch:31, Step:1, Loss:0.6288\n",
      "Epoch:32, Step:1, Loss:0.4715\n",
      "Epoch:33, Step:1, Loss:0.4501\n",
      "Epoch:34, Step:1, Loss:0.5595\n",
      "Epoch:35, Step:1, Loss:0.3933\n",
      "Epoch:36, Step:1, Loss:0.4523\n",
      "Epoch:37, Step:1, Loss:0.4407\n",
      "Epoch:38, Step:1, Loss:0.3927\n",
      "Epoch:39, Step:1, Loss:0.6142\n",
      "Epoch:40, Step:1, Loss:0.5356\n",
      "Epoch:41, Step:1, Loss:0.4414\n",
      "Epoch:42, Step:1, Loss:0.5245\n",
      "Epoch:43, Step:1, Loss:0.4067\n",
      "Epoch:44, Step:1, Loss:0.4004\n",
      "Epoch:45, Step:1, Loss:0.4463\n",
      "Epoch:46, Step:1, Loss:0.4212\n",
      "Epoch:47, Step:1, Loss:0.6616\n",
      "Epoch:48, Step:1, Loss:0.351\n",
      "Epoch:49, Step:1, Loss:0.3631\n",
      "Epoch:50, Step:1, Loss:0.5294\n",
      "Epoch:51, Step:1, Loss:0.2026\n",
      "Epoch:52, Step:1, Loss:0.3107\n",
      "Epoch:53, Step:1, Loss:0.4264\n",
      "Epoch:54, Step:1, Loss:0.3816\n",
      "Epoch:55, Step:1, Loss:0.3808\n",
      "Epoch:56, Step:1, Loss:0.5263\n",
      "Epoch:57, Step:1, Loss:0.3092\n",
      "Epoch:58, Step:1, Loss:0.3178\n",
      "Epoch:59, Step:1, Loss:0.2394\n",
      "Epoch:60, Step:1, Loss:0.4262\n",
      "Epoch:61, Step:1, Loss:0.5725\n",
      "Epoch:62, Step:1, Loss:0.3195\n",
      "Epoch:63, Step:1, Loss:0.249\n",
      "Epoch:64, Step:1, Loss:0.3232\n",
      "Epoch:65, Step:1, Loss:0.6311\n",
      "Epoch:66, Step:1, Loss:0.4498\n",
      "Epoch:67, Step:1, Loss:0.4919\n",
      "Epoch:68, Step:1, Loss:0.3378\n",
      "Epoch:69, Step:1, Loss:0.3624\n",
      "Epoch:70, Step:1, Loss:0.4698\n",
      "Epoch:71, Step:1, Loss:0.514\n",
      "Epoch:72, Step:1, Loss:0.4662\n",
      "Epoch:73, Step:1, Loss:0.2553\n",
      "Epoch:74, Step:1, Loss:0.3808\n",
      "Epoch:75, Step:1, Loss:0.4209\n",
      "Epoch:76, Step:1, Loss:0.2892\n",
      "Epoch:77, Step:1, Loss:0.3314\n",
      "Epoch:78, Step:1, Loss:0.3642\n",
      "Epoch:79, Step:1, Loss:0.4263\n",
      "Epoch:80, Step:1, Loss:0.5382\n",
      "Epoch:81, Step:1, Loss:0.3761\n",
      "Epoch:82, Step:1, Loss:0.4927\n",
      "Epoch:83, Step:1, Loss:0.4071\n",
      "Epoch:84, Step:1, Loss:0.4095\n",
      "Epoch:85, Step:1, Loss:0.4864\n",
      "Epoch:86, Step:1, Loss:0.3834\n",
      "Epoch:87, Step:1, Loss:0.5275\n",
      "Epoch:88, Step:1, Loss:0.3495\n",
      "Epoch:89, Step:1, Loss:0.3547\n",
      "Epoch:90, Step:1, Loss:0.4002\n",
      "Epoch:91, Step:1, Loss:0.3955\n",
      "Epoch:92, Step:1, Loss:0.4342\n",
      "Epoch:93, Step:1, Loss:0.4926\n",
      "Epoch:94, Step:1, Loss:0.4782\n",
      "Epoch:95, Step:1, Loss:0.3647\n",
      "Epoch:96, Step:1, Loss:0.4785\n",
      "Epoch:97, Step:1, Loss:0.3406\n",
      "Epoch:98, Step:1, Loss:0.272\n",
      "Epoch:99, Step:1, Loss:0.2269\n",
      "Epoch:100, Step:1, Loss:0.3875\n"
     ]
    }
   ],
   "source": [
    "for epoch in range(100):\n",
    "    train(epoch)\n",
    "\n",
    "torch.save(net.state_dict(), \"./model_cnn\")"
   ]
  },
  {
   "cell_type": "code",
   "execution_count": 7,
   "metadata": {},
   "outputs": [
    {
     "name": "stdout",
     "output_type": "stream",
     "text": [
      "Test: LossAverage:0.4106, CorrectRate:89.49%(34495/38547)\n",
      "\n"
     ]
    }
   ],
   "source": [
    "def test():\n",
    "    net.eval()\n",
    "    test_loss = 0\n",
    "    correct = 0\n",
    "    test_len = len(test_loader.dataset)\n",
    "    with torch.no_grad():\n",
    "        for data, target in test_loader:\n",
    "            data = data.to(\"cuda\", dtype=torch.float)\n",
    "            target = target.to(\"cuda\", dtype=torch.long)\n",
    "            output = net(data)\n",
    "            test_loss += criterion(output, target).item()\n",
    "            pred = output.max(1, keepdim=True)[1]\n",
    "            correct += pred.eq(target.view_as(pred)).sum().item()\n",
    "    test_loss /= test_len\n",
    "    print(\"Test: LossAverage:{:.4}, CorrectRate:{:.2%}({}/{})\\n\".format(test_loss, correct/test_len, correct, test_len))\n",
    "\n",
    "test()"
   ]
  }
 ],
 "metadata": {
  "kernelspec": {
   "display_name": "Python 3",
   "language": "python",
   "name": "python3"
  },
  "language_info": {
   "codemirror_mode": {
    "name": "ipython",
    "version": 3
   },
   "file_extension": ".py",
   "mimetype": "text/x-python",
   "name": "python",
   "nbconvert_exporter": "python",
   "pygments_lexer": "ipython3",
   "version": "3.7.1"
  }
 },
 "nbformat": 4,
 "nbformat_minor": 2
}
