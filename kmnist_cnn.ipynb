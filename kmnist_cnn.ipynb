{
 "cells": [
  {
   "cell_type": "code",
   "execution_count": 3,
   "metadata": {},
   "outputs": [],
   "source": [
    "import torch\n",
    "import torch.nn as nn\n",
    "import torch.nn.functional as F\n",
    "import torch.utils.data\n",
    "import numpy as np"
   ]
  },
  {
   "cell_type": "code",
   "execution_count": 4,
   "metadata": {},
   "outputs": [],
   "source": [
    "def loadData(img_path, label_path):\n",
    "    img_np = np.load(img_path)[\"arr_0\"]\n",
    "    img_np = img_np/255\n",
    "    img_np = img_np.reshape(len(img_np), -1, 28, 28)\n",
    "    label_np = np.load(label_path)[\"arr_0\"]\n",
    "    return torch.utils.data.TensorDataset(torch.from_numpy(img_np),\n",
    "                                            torch.from_numpy(label_np))\n",
    "\n",
    "train_data = loadData(\"kmnist/k49-train-imgs.npz\", \"kmnist/k49-train-labels.npz\")\n",
    "train_loader = torch.utils.data.DataLoader(train_data, batch_size=100, shuffle=True)\n",
    "test_data = loadData(\"kmnist/k49-test-imgs.npz\", \"kmnist/k49-test-labels.npz\")\n",
    "test_loader = torch.utils.data.DataLoader(test_data)"
   ]
  },
  {
   "cell_type": "code",
   "execution_count": 11,
   "metadata": {},
   "outputs": [
    {
     "name": "stdout",
     "output_type": "stream",
     "text": [
      "Net(\n",
      "  (conv1): Conv2d(1, 32, kernel_size=(3, 3), stride=(1, 1))\n",
      "  (conv2): Conv2d(32, 64, kernel_size=(3, 3), stride=(1, 1))\n",
      "  (pool): MaxPool2d(kernel_size=2, stride=2, padding=0, dilation=1, ceil_mode=False)\n",
      "  (dropout1): Dropout2d(p=0.5)\n",
      "  (fc1): Linear(in_features=9216, out_features=128, bias=True)\n",
      "  (dropout2): Dropout2d(p=0.5)\n",
      "  (fc2): Linear(in_features=128, out_features=49, bias=True)\n",
      ")\n"
     ]
    }
   ],
   "source": [
    "class Net(nn.Module):\n",
    "    def __init__(self):\n",
    "        super(Net, self).__init__()\n",
    "        self.conv1 = nn.Conv2d(1, 32, 3) \n",
    "        self.conv2 = nn.Conv2d(32, 64, 3)\n",
    "        self.pool = nn.MaxPool2d(2, 2)\n",
    "        self.dropout1 = nn.Dropout2d()\n",
    "        self.fc1 = nn.Linear(12*12*64, 128)\n",
    "        self.dropout2 = nn.Dropout2d()\n",
    "        self.fc2 = nn.Linear(128, 49)\n",
    "    \n",
    "    def forward(self, x):\n",
    "        x = F.relu(self.conv1(x))\n",
    "        x = self.pool(F.relu(self.conv2(x)))\n",
    "        x = self.dropout1(x)\n",
    "        x = x.view(-1, 12*12*64)\n",
    "        x = F.relu(self.fc1(x))\n",
    "        x = self.dropout2(x)\n",
    "        x = self.fc2(x)\n",
    "        return x\n",
    "\n",
    "net = Net().to(\"cuda\")\n",
    "model_dir = None #\"./model_cnn\"\n",
    "print(net)"
   ]
  },
  {
   "cell_type": "code",
   "execution_count": 12,
   "metadata": {},
   "outputs": [],
   "source": [
    "criterion = nn.CrossEntropyLoss()\n",
    "optimizer = torch.optim.SGD(net.parameters(), lr=0.001, momentum=0.9)"
   ]
  },
  {
   "cell_type": "code",
   "execution_count": 14,
   "metadata": {},
   "outputs": [],
   "source": [
    "def train(epoch):\n",
    "    net.train()\n",
    "    for step, (data, target) in enumerate(train_loader, 0):\n",
    "        data = data.to(\"cuda\", dtype=torch.float)\n",
    "        target = target.to(\"cuda\", dtype=torch.long)\n",
    "        optimizer.zero_grad()\n",
    "        output = net(data)\n",
    "        loss = criterion(output, target)\n",
    "        loss.backward()\n",
    "        optimizer.step()\n",
    "        if step == 0:\n",
    "            print(\"Epoch:{}, Step:{}, Loss:{:.4}\".format(epoch+1, step+1, loss.item()))"
   ]
  },
  {
   "cell_type": "code",
   "execution_count": 15,
   "metadata": {
    "scrolled": true
   },
   "outputs": [
    {
     "name": "stdout",
     "output_type": "stream",
     "text": [
      "Epoch:1, Step:1, Loss:3.895\n",
      "Epoch:2, Step:1, Loss:1.527\n",
      "Epoch:3, Step:1, Loss:1.351\n",
      "Epoch:4, Step:1, Loss:1.268\n",
      "Epoch:5, Step:1, Loss:1.092\n",
      "Epoch:6, Step:1, Loss:1.035\n",
      "Epoch:7, Step:1, Loss:1.066\n",
      "Epoch:8, Step:1, Loss:0.885\n",
      "Epoch:9, Step:1, Loss:0.8737\n",
      "Epoch:10, Step:1, Loss:0.8992\n",
      "Epoch:11, Step:1, Loss:1.064\n",
      "Epoch:12, Step:1, Loss:0.9152\n",
      "Epoch:13, Step:1, Loss:0.5742\n",
      "Epoch:14, Step:1, Loss:0.9035\n",
      "Epoch:15, Step:1, Loss:0.6928\n",
      "Epoch:16, Step:1, Loss:0.6677\n",
      "Epoch:17, Step:1, Loss:0.637\n",
      "Epoch:18, Step:1, Loss:0.6966\n",
      "Epoch:19, Step:1, Loss:0.6408\n",
      "Epoch:20, Step:1, Loss:0.7097\n",
      "Epoch:21, Step:1, Loss:0.624\n",
      "Epoch:22, Step:1, Loss:0.645\n",
      "Epoch:23, Step:1, Loss:0.7458\n",
      "Epoch:24, Step:1, Loss:0.4632\n",
      "Epoch:25, Step:1, Loss:0.9269\n",
      "Epoch:26, Step:1, Loss:0.5988\n",
      "Epoch:27, Step:1, Loss:0.7619\n",
      "Epoch:28, Step:1, Loss:0.7135\n",
      "Epoch:29, Step:1, Loss:0.5457\n",
      "Epoch:30, Step:1, Loss:0.6044\n",
      "Epoch:31, Step:1, Loss:0.2729\n",
      "Epoch:32, Step:1, Loss:0.4447\n",
      "Epoch:33, Step:1, Loss:0.4911\n",
      "Epoch:34, Step:1, Loss:0.4637\n",
      "Epoch:35, Step:1, Loss:0.6068\n",
      "Epoch:36, Step:1, Loss:0.5669\n",
      "Epoch:37, Step:1, Loss:0.4662\n",
      "Epoch:38, Step:1, Loss:0.5568\n",
      "Epoch:39, Step:1, Loss:0.541\n",
      "Epoch:40, Step:1, Loss:0.4614\n",
      "Epoch:41, Step:1, Loss:0.5164\n",
      "Epoch:42, Step:1, Loss:0.4622\n",
      "Epoch:43, Step:1, Loss:0.7357\n",
      "Epoch:44, Step:1, Loss:0.4435\n",
      "Epoch:45, Step:1, Loss:0.4354\n",
      "Epoch:46, Step:1, Loss:0.362\n",
      "Epoch:47, Step:1, Loss:0.3466\n",
      "Epoch:48, Step:1, Loss:0.3569\n",
      "Epoch:49, Step:1, Loss:0.4401\n",
      "Epoch:50, Step:1, Loss:0.4387\n",
      "Epoch:51, Step:1, Loss:0.506\n",
      "Epoch:52, Step:1, Loss:0.4775\n",
      "Epoch:53, Step:1, Loss:0.4016\n",
      "Epoch:54, Step:1, Loss:0.6456\n",
      "Epoch:55, Step:1, Loss:0.3552\n",
      "Epoch:56, Step:1, Loss:0.5824\n",
      "Epoch:57, Step:1, Loss:0.3294\n",
      "Epoch:58, Step:1, Loss:0.7242\n",
      "Epoch:59, Step:1, Loss:0.5239\n",
      "Epoch:60, Step:1, Loss:0.5542\n",
      "Epoch:61, Step:1, Loss:0.3312\n",
      "Epoch:62, Step:1, Loss:0.4245\n",
      "Epoch:63, Step:1, Loss:0.4686\n",
      "Epoch:64, Step:1, Loss:0.3886\n",
      "Epoch:65, Step:1, Loss:0.4261\n",
      "Epoch:66, Step:1, Loss:0.3049\n",
      "Epoch:67, Step:1, Loss:0.5225\n",
      "Epoch:68, Step:1, Loss:0.437\n",
      "Epoch:69, Step:1, Loss:0.3477\n",
      "Epoch:70, Step:1, Loss:0.6334\n",
      "Epoch:71, Step:1, Loss:0.3859\n",
      "Epoch:72, Step:1, Loss:0.5249\n",
      "Epoch:73, Step:1, Loss:0.6002\n",
      "Epoch:74, Step:1, Loss:0.4514\n",
      "Epoch:75, Step:1, Loss:0.4307\n",
      "Epoch:76, Step:1, Loss:0.3362\n",
      "Epoch:77, Step:1, Loss:0.5213\n",
      "Epoch:78, Step:1, Loss:0.4595\n",
      "Epoch:79, Step:1, Loss:0.2975\n",
      "Epoch:80, Step:1, Loss:0.3451\n",
      "Epoch:81, Step:1, Loss:0.3433\n",
      "Epoch:82, Step:1, Loss:0.3207\n",
      "Epoch:83, Step:1, Loss:0.4224\n",
      "Epoch:84, Step:1, Loss:0.4863\n",
      "Epoch:85, Step:1, Loss:0.2473\n",
      "Epoch:86, Step:1, Loss:0.3547\n",
      "Epoch:87, Step:1, Loss:0.3354\n",
      "Epoch:88, Step:1, Loss:0.5252\n",
      "Epoch:89, Step:1, Loss:0.2867\n",
      "Epoch:90, Step:1, Loss:0.444\n",
      "Epoch:91, Step:1, Loss:0.2547\n",
      "Epoch:92, Step:1, Loss:0.4316\n",
      "Epoch:93, Step:1, Loss:0.5167\n",
      "Epoch:94, Step:1, Loss:0.3004\n",
      "Epoch:95, Step:1, Loss:0.419\n",
      "Epoch:96, Step:1, Loss:0.497\n",
      "Epoch:97, Step:1, Loss:0.4054\n",
      "Epoch:98, Step:1, Loss:0.539\n",
      "Epoch:99, Step:1, Loss:0.4398\n",
      "Epoch:100, Step:1, Loss:0.4171\n"
     ]
    }
   ],
   "source": [
    "for epoch in range(100):\n",
    "    train(epoch)\n",
    "\n",
    "torch.save(net.state_dict(), \"./model_cnn\")"
   ]
  },
  {
   "cell_type": "code",
   "execution_count": 7,
   "metadata": {},
   "outputs": [
    {
     "name": "stdout",
     "output_type": "stream",
     "text": [
      "Test: LossAverage:0.4106, CorrectRate:89.49%(34495/38547)\n",
      "\n"
     ]
    }
   ],
   "source": [
    "def test():\n",
    "    net.eval()\n",
    "    test_loss = 0\n",
    "    correct = 0\n",
    "    test_len = len(test_loader.dataset)\n",
    "    with torch.no_grad():\n",
    "        for data, target in test_loader:\n",
    "            data = data.to(\"cuda\", dtype=torch.float)\n",
    "            target = target.to(\"cuda\", dtype=torch.long)\n",
    "            output = net(data)\n",
    "            test_loss += criterion(output, target).item()\n",
    "            pred = output.max(1, keepdim=True)[1]\n",
    "            correct += pred.eq(target.view_as(pred)).sum().item()\n",
    "    test_loss /= test_len\n",
    "    print(\"Test: LossAverage:{:.4}, CorrectRate:{:.2%}({}/{})\\n\".format(test_loss, correct/test_len, correct, test_len))\n",
    "\n",
    "test()"
   ]
  }
 ],
 "metadata": {
  "kernelspec": {
   "display_name": "Python 3",
   "language": "python",
   "name": "python3"
  },
  "language_info": {
   "codemirror_mode": {
    "name": "ipython",
    "version": 3
   },
   "file_extension": ".py",
   "mimetype": "text/x-python",
   "name": "python",
   "nbconvert_exporter": "python",
   "pygments_lexer": "ipython3",
   "version": "3.7.1"
  }
 },
 "nbformat": 4,
 "nbformat_minor": 2
}
